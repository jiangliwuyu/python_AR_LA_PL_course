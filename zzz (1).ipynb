{
 "cells": [
  {
   "cell_type": "code",
   "execution_count": 6,
   "id": "b93fbe0b-c1b9-4435-9948-82c4af5a2f16",
   "metadata": {},
   "outputs": [],
   "source": [
    "#矩形截面木拉杆的榫接头如图所示，已知轴向拉力F=50kN，截面宽度b=250mm，木材的许用挤压应力[σbc]=10MPa，许用切应力[τ]=1MPa，试求接头所需尺寸l和a。\n",
    "#求l,a\n",
    "#切应力t=Fs//As<=[τ](许用切应力)\n",
    "#挤压应力σbc=Fbs//Abs<=[σbc]\n",
    "#As=b*l Abs=a*b"
   ]
  },
  {
   "cell_type": "code",
   "execution_count": 57,
   "id": "a7d873c6-b5d5-479b-8a3b-eb63fc22fca0",
   "metadata": {},
   "outputs": [],
   "source": [
    "def ez(Fs,b,τ):\n",
    "    return Fs//b//τ\n",
    "    \n",
    "    \n"
   ]
  },
  {
   "cell_type": "code",
   "execution_count": 58,
   "id": "c8358d95-0925-415e-b8b3-0ffdf730d8ea",
   "metadata": {},
   "outputs": [
    {
     "data": {
      "text/plain": [
       "200.0"
      ]
     },
     "execution_count": 58,
     "metadata": {},
     "output_type": "execute_result"
    }
   ],
   "source": [
    "l >= ez(Fs=50000,b=250,τ=1000)\n",
    "l"
   ]
  },
  {
   "cell_type": "code",
   "execution_count": 59,
   "id": "e58f5ea8-cdfe-46e1-82fd-f6b54272251e",
   "metadata": {},
   "outputs": [],
   "source": [
    "def h(Fbs,b,σbc):\n",
    "    return Fbs//b//σbc"
   ]
  },
  {
   "cell_type": "code",
   "execution_count": 60,
   "id": "d74cb1ab-1291-4bdd-b2b3-8df1f6536ebc",
   "metadata": {},
   "outputs": [
    {
     "data": {
      "text/plain": [
       "20.0"
      ]
     },
     "execution_count": 60,
     "metadata": {},
     "output_type": "execute_result"
    }
   ],
   "source": [
    "a >= h(Fbs=50000,b=250,σbc=10000)\n",
    "a "
   ]
  },
  {
   "cell_type": "code",
   "execution_count": null,
   "id": "791491a8-6d7d-469a-b6ce-9dba01f41c84",
   "metadata": {},
   "outputs": [],
   "source": []
  },
  {
   "cell_type": "code",
   "execution_count": null,
   "id": "104e2fb2-f2f3-43d4-abaa-3b3bc0c80584",
   "metadata": {},
   "outputs": [],
   "source": []
  }
 ],
 "metadata": {
  "kernelspec": {
   "display_name": "Python 3",
   "language": "python",
   "name": "python3"
  },
  "language_info": {
   "codemirror_mode": {
    "name": "ipython",
    "version": 3
   },
   "file_extension": ".py",
   "mimetype": "text/x-python",
   "name": "python",
   "nbconvert_exporter": "python",
   "pygments_lexer": "ipython3",
   "version": "3.8.8"
  }
 },
 "nbformat": 4,
 "nbformat_minor": 5
}
