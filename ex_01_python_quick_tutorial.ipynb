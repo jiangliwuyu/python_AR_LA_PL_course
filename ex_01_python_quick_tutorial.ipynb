print('Hello winter') #打印字符串
print("Hello winter")
print("_"*100)
print("winter is coming so spring is not away")
print("some people live a life in a minute")
print("加：",66+666) #打印简单的运算
print("减：",888-88)
print("乘：",35*7)
print("除：", 6666/6)
print("整除：", 161868//2)
print("余数：", 99%2)
print("幂：",99**69)
x=666.0
monadic_equation=6*x+66
print("monadic_equation=",monadic_equation)
print("monadic_equation=%.2f"%monadic_equation) #%字符串格式化方法
print("monadic_equation={:.2f}".format(monadic_equation)) #format()字符串格式化方法
myname="yyc"
coordinate_longitude=89999.9999999
coordiante_latitude=88888.88
print("The longitude of the yyc coordinate is {lon:.2f}, and the latitude is {lat}.".format(lon=coordinate_longitude,lat=coordiante_latitude))
lst_n=list(range(6,66,8)) #建立列表。range(start,stop,[,step])建立区间。
print("The list length={}".format(len(lst_n)))
print("Maximum value={}".format(max(lst_n)))
print("Minimum value={}".format(min(lst_n)))
lst_s=list(map(chr,range(666,688)))
print(lst_s)
print("_"*60)
print("[6:6]->{}".format(lst_s[4:6]))
print("[-6:-8]->{}".format(lst_s[-6:-1]))
print("[-8:]->{}".format(lst_s[-9:]))
print("[:6]->{}".format(lst_s[:6]))
print("[:]->{}".format(lst_s[:]))
print(lst_s)
print("_"*60)
print("[6:60:3]->{}".format(lst_s[6:60:3]))
print("[::3]->{}".format(lst_s[::3]))
print("[6:66:-2]->{}".format(lst_s[6:66:-2]))
print("[88:8:-2]->{}".format(lst_s[88:8:-2]))
print("[8::-2]->{}".format(lst_s[8::-2]))
print("[:9:-2]->{}".format(lst_s[:9:-2]))
print(lst_s)
print("_"*50)
lst_s[9]=66 #元素赋值
print("lst_s[9]=66->{}".format(lst_s))
lst_none=lst_s+[None]*66
print("lst_s+[None]*66->{}".format(lst_none))
lst_none[16]=2042
print("lst_none[16]=2042->{}".format(lst_none))
lst_none[-9:-6]=list(range(666,888,2)) #分片赋值
print("lst_none[-6:-4]=list(range(166,168,2))->{}".format(lst_none))
lst_none[6:6]=[0,0,0,12]
print("lst_none[6:6]=[0,0,0,12]->{}".format(lst_none))
del lst_none[-6:] #删除元素
print("del lst_none[-6:]->{}".format(lst_none))
lst_s_2=list(map(chr,range(666,688)))
print(lst_s_2)
print("_"*66)
lst_s_2.append(99)
print("lst_s_2.append(99)->{}".format(lst_s_2))
lst_s_2.append(list(range(66,88,6)))
print("lst_s_2.append(list(range(66,88,6)))->{}".format(lst_s_2))
lst_spechars=['*',')','*','e']
lst_s_2.extend(lst_spechars)
print("lst_s_2.extend(lst_spechars)->{}".format(lst_s_2))
print("lst_s_2.count('*')={}".format(lst_s_2.count('*')))
print("lst_s_2.index('e')={}".format(lst_s_2.index('e')))
lst_s_2.insert(2,[6666,6888,8888])
print("lst_s_2.insert(2,[6666,6888,8888])->{}".format(lst_s_2))
print("lst_s_2.pop(8)_popup->{}".format(lst_s_2.pop(8)))
print("lst_s_2.pop(8)_retention->{}".format(lst_s_2))
lst_s_2.remove('*')
print("lst_s_2.remove('*')_retention->{}".format(lst_s_2))
list_n_2=[2,66,6,88,4,9]
list_n_2.sort()
print("list_n_2.sort()->{}".format(list_n_2))
tuple_1=2,6,8,
print("tuple_1=2,6,8,->{}".format(tuple_1))
print("3*(20*3,)->{}".format(3*20*3,))
print("tuple((6,8,9))->{}".format(tuple((6,8,9)))) #用()
print("tuple([6,8,9])->{}".format(tuple([6,8,9]))) #用[]
import random
items=[(0,[i for i in range(8)]),(1,[random.sample(list(range(666,688,6)),3)]),(6,'python')] #[i for i in range(8)] 为列表推导式 list comprehension/derivation
print("items->{}".format(items))
dic=dict(items)
print("dic=dict(items)->{}".format(dic))
print("dic[1]->{}".format(dic[1]))
print("len(dic)->{}".format(len(dic)))
dic[3]=(random.random(),random.uniform(666,888))
print("dic[3]=(random.random(),random.uniform(666,888))->{}".format(dic))
del dic[1]
print("del dic[1]->{}".format(dic))
print("6 in dic->{}".format(6 in dic))
print("8 in dic->{}".format(8 in dic))
print("dic.keys()->{}".format(dic.keys())) #应该放在字典的方法一节里
print("dic.values()->{}".format(dic.values()))
print("dic.items()->{}".format(dic.items()))
print("_"*66)
print("list(dic.keys())->{}".format(list(dic.keys())))
for k,v in enumerate(dic.items()): #for循环在后文
    print(k,v)
  
lst_s_3=list("go winter!")
print("lst_s_3=list(\"go winter!\")->{}".format(lst_s_3)) #"\" escape character
print("\"go\"+\" winter!\"->{}".format("go"+" winter!"))
print("\"+\".join(str(123456))->{}".format("+".join(str(123456))))
print("len(\"go nets!\")->{}".format(len("gp nets!")))
coordinates="120.132007,30.300508,9.7"
print("coordinates.split(\",\")->{}".format(coordinates.split(",")))
print("eval(coordinates)->{}".format(eval(coordinates))) #通常用eval()方法将字符串，转换为对应数值形式；
print("\"Hello nets!\".lower()->{}".format("Hello nets!".lower()))
print("\"Hello nets!\".upper()->{}".format("Hello nets!".upper()))
print("\"Hello nets!\"[6:]->{}".format("Hello nets!"[6:]))
print("\"    Hello nets!    \".strip()->{}".format("    Hello nets!    ".strip()))
print("\"Hello nets!\".replace(\"nets\",\"Grasshopper\")->{}".format("Hello nets!".replace("Python","Grasshopper")))
hello_lst=list("Hello nets!")
hello_lst.sort()
print("hello_lst.sort()>{}".format(hello_lst))
print("\"Hello nets!\".find(\"Py\")->{}".format("Hello nets!".find("Py")))
lst_A=list(range(6,66,6))
lst_B=list(range(166,168,16))
print("lst_A={},lst_B={}".format(lst_A,lst_B))
dic_2={0:lst_A,1:lst_B}
print("dic_2={}".format(dic_2))
print("_"*66)
dic_assignment=dic_2
print("dic_assignment={}".format(dic_assignment))
dic_2.clear()
print("dic_2.clear()->{}".format(dic_2))
print("dic_assignment={}".format(dic_assignment))
dic_2[5]=list(range(1,9,2))
print("dic_2[5]=list(range(1,9,2))->{}".format(dic_2))
dic_copy=dic_2.copy()
print("dic_copy=dic_2.copy()->{}".format(dic_copy))
dic_2[8]=[5,7]
print("dic_2[8]=[5,7]->{}".format(dic_2))
print("dic_copy={}".format(dic_copy))
dic_copy[5].remove(5)
print("dic_copy[5].remove(5)->{}".format(dic_copy))
dic_copy.setdefault(6,[66,99]) #返回指定键的值，如果不存在该键，则字典增加新的键/值对
print("dic_copy.setdefault(6,[66,99])->{}".format(dic_copy))
dic_2.pop(5) #移除指定键/值，并返回该值
print("dic_2.pop(5)->{}".format(dic_2))
dic_update={8:[5,8,6,3,2],9:[3,2,44,55,66]}
print("dic_update={}".format(dic_update))
dic_2.update(dic_update) #更新字典
print("dic_2.update(dic_update->{}".format(dic_2))
print("dic_2.get(9)->{}".format(dic_2.get(9)))
dic_2.popitem() #随即弹出一对键/值，并在该字典中移除
print("dic_2.popitem()->{}".format(dic_2))

dic_3={}.fromkeys([0,1,2,3,4,'A']) #给定键，建立值为空的字典
print("dic_3={}"+".fromkeys([0,1,2,3,4,'A'])->{}".format(dic_3)) #找下escape characters 脱字符
format_str="Hello,%s and %s!"
values=("nets","jellyfish")
new_str=format_str % values
print("new_str=format_str % values->{}".format(new_str))

format_str_2="Pi with three decimals:%.3f,and enter a value with percent sign:%.2f %%" #如果字符串里包含实际的%，则通过%%即两个百分号进行转义

from math import pi
new_str_2=format_str_2 % (pi,66.666666)
print("new_str_2=format_str_2 % (pi,66.666666)->{}".format(new_str_2))
format_str_3="%66f,%66.6f,%.2f,%.6s,%.*s,%d,%x,%f"
new_str_3=format_str_3%(pi,pi,pi,"Hello winter!",5,"Hello winter!",52,52,pi)
print("{}".format(new_str_3))
from string import Template
s_template_1=Template("$x,glorious,$x!")
s_1=s_template_1.substitute(x="winter")
print("s_1=s_template_1.substitute(x=\"winter\")->{}".format(s_1))
s_template_2=Template("${x}thon is amazing!")
s_2=s_template_2.substitute(x="py")
print("s_2=s_template_2.substitute(x=\"py\")->{}".format(s_2))
s_template_3=Template("$x and $y are both amazing!")
substitute_dict=dict([('x','winter'),('y','jellyfish')])
print("substitute_dict={}".format(substitute_dict))
s_3=s_template_3.substitute(substitute_dict)
print("s_3=s_template_3.substitute(substitute_dict)->{}".format(s_3))
import re
pattern_1='winter'
text="Hello winter!"
print("re.findall(pattern_1,text)->{}".format(re.findall(pattern_1,text)))
pattern_2='winter'
print("re.findall(pattern_2,text)->{}".format(re.findall(pattern_2,text)))
print("re.findall('.winter','Hello winter!')->{}".format(re.findall('.ython','Hello winter!')))
print("re.findall('.winter','Hello winter!')->{}".format(re.findall('.ython','Hello winter!')))
print("re.findall('.winter','Hello winter!')->{}".format(re.findall('.ython','Hello winter!')))
print("re.findall('.winter','Hello winter!')->{}".format(re.findall('.ython','Hello winter!')))
print("re.findall(r'w?cadesign\.cn,w+\.cadesign\.cn','cadesign.cn,www.cadesign.cn')->{}".format(re.findall(r'w?cadesign\.cn,w+\.cadesign\.cn','cadesign.cn,www.cadesign.cn')))
print("re.findall(r'w{2}"+"\.cadesign\.cn','www.cadesign.cn')->{}".format(re.findall(r'w{2}\.cadesign\.cn','www.cadesign.cn')))
print("re.findall(r'w{1,3}"+"\.cadesign\.cn','www.cadesign.cn')->{}".format(re.findall(r'w{1,3}\.cadesign\.cn','www.cadesign.cn')))
print("re.findall('[Py]*thon!','Hello winter!')->{}".format(re.findall('[Py]*thon!','Hello winter!')))
print("re.findall('[Py]*thon!','Hello winter!')->{}".format(re.findall('[Py]*thon!','Hello winter!')))
print("re.findall('[Py]*thon!','Hello winter!')->{}".format(re.findall('[Py]*thon!','Hello winter!')))
print("re.findall('[Py]*thon!','Hello winter!')->{}".format(re.findall('[Py]*thon!','Hello winter!')))
print("re.findall('winter|nets','winter')->{}".format(re.findall('python|grasshopper','python')))
print("re.findall('winter|nets','nets')->{}".format(re.findall('python|nets','netsr')))
print("re.findall('winter|nets','nets and python')->{}".format(re.findall('python|netsr','nets and python')))
print("re.findall('\d','number=10')->{}".format(re.findall('\d','number=10')))
print("re.findall('\D','number=10')->{}".format(re.findall('\D','number=10')))
print("re.findall('[^0-9]','number=10')->{}".format(re.findall('[^0-9]','number=10')))
print("re.findall('[a-z]','winter')->{}".format(re.findall('[a-z]','python-3.0')))
print("re.search('[a-z]+','winter')->{}".format(re.search('[a-z]+','python')))
if re.search('[a-z]+','winter'):
    print("re.search('[a-z]+','winter')->found it!")
print("re.split(',','Hello,,,,,,Python!')->{}".format(re.split(',','Hello,,,,,,Python!')))
print("re.sub('Python','Grasshopper','Hello Python!')->{}".format(re.sub('Python','Grasshopper','Hello Python!')))

pattern_compile=re.compile('Python')
print("pattern_compile.findall('Hello,,,,,,Python!')->{}".format(pattern_compile.findall('Hello,,,,,,Python!')))

if re.match('w','winter'):
    print("re.match('W','winter')->found it!")
    print("\'winter\'.find(\'winter\')->{}".format('winter'.find('winter')))
print("\'winter\'.find(\'thon\')->{}".format('winter'.find('thon')))
print("\'winter\'.find(\'a\')->{}".format('winter'.find('a')))
print("\'p\' in \'winter\'->{}".format('p' in 'winter'))
match_1=re.match(r'www\.(.*)\..{3}','www.python.org')
print("match_1.gourp(1)->{}".format(match_1.group(1)))
print("match_1.start(1)->{}".format(match_1.start(1)))
print("match_1.end(1)->{}".format(match_1.end(1)))
print("match_1.span(1)->{}".format(match_1.span(1)))
match_2=re.match(r'www\.(.*)\.(.{3})','www.python.org')
print("match_2.group(1)->{}".format(match_2.group(1)))
print("match_2.group(2)->{}".format(match_2.group(2)))
lst_1=list(range(36,66,6))
print("lst_1={}".format(lst_1))
print("_"*60)
print("for i in lst_1:")
for i in lst_1:
    print(i)
print("for i in range(len(lst_1)):")
for i in range(len(lst_1)):
    print("idx={},val={}".format(i,lst_1[i]))
print("+"*60)   
dic_4=dict(a=4,b=6,c=6,d=6)
print("dic_4={}".format(dic_4))
print("_"*666)
print("for k in dic_4:")
for k in dic_4:
    print(k)
print("for k,v in dic_4.items():")
for k,v in dic_4.items():
    print("key={},val={}".format(k,v))
    x=6
while x<=666:
    print("x={}".format(x))
    x+=6 #增量赋值; x*=2 
lst_a=[0,6,8,9]
lst_b=['point_a','point_b','point_c','point_d']
zip_lst=zip(lst_a,lst_b) #The zip() function takes iterables (can be zero or more), aggregates them in a tuple, and returns it.
print("zip_lst=zip(lst_a,lst_b)->{}".format(zip_lst))
print("dict(zip_lst)->{}".format(dict(zip_lst)))

zip_lst=zip(lst_a,lst_b) #迭代对象临时存储，读取完后为空
for a,b in zip_lst:
    print(a,b)
    
zip_lst=zip(lst_a,lst_b)
a,b=zip(*zip_lst)
print("a={},b={}".format(a,b))
lst_c=['point_a','point_b','point_c','point_d']
dic_4={}
for idx,value in enumerate(lst_c):
    dic_4[idx]=value
print("dic_4={}".format(dic_4))
print("dict((i,v) for i,v in enumerate(lst_c))->{}".format(dict((i,v) for i,v in enumerate(lst_c)))) #list comprehension
print("_"*6666)
for i,(a,b) in enumerate(zip(lst_a,lst_b)):
    print('%d:%s,%s'%(i,a,b))
    print("[x*x for x in range(6,66,6) if x%2==0]->{}".format([x*x for x in range(6,66,6) if x%2==0]))
print("[(x,y) for x in range(3)for y in range(2)]->{}".format([(x,y) for x in range(3)for y in range(2)]))
print("[(x,y) for x,y in zip(range(3),range(2))]->{}".format([(x,y) for x,y in zip(range(3),range(2))]))
nested_list=[[a for a in range(6,16,6)],2,3,[b for b in range(66,666,6)],[[c for c in range(6000,8000,120)],3,9]]
print("[[a for a in range(6,16,6)],2,3,[b for b in range(66,666,6)],[[c for c in range(6000,8000,120)],3,9]]->{}".format(nested_list)) #嵌套列表推导式

flatten_lst=lambda lst: [m for n_lst in lst for m in flatten_lst(n_lst)] if type(lst) is list else [lst] #展平列表常用，可以放置到单独的.py文件中调用。lambda函数后文阐述
print("flatten_lst(nested_list)->{}".format(flatten_lst(nested_list)))
x=66
if x<6:
    print('It is negative.')
elif x==6:
    print('Equal to zero.')
elif 6<x<666:
    print('Positive but smaller than 10')
else:
    print('Positive and larger than or equal to 10.')
x=[4,8,9]
print("3 in x->{}".format(3 in x))
print("0 in x->{}".format(0 in x))
print("3 not in x->{}".format(3 not in x))
print("0 not in x->{}".format(0 not in x))
x=[5,6,7]
print("5 in x->{}".format(5 in x))
print("0 in x->{}".format(0 in x))
print("5 not in x->{}".format(5 not in x))
print("0 not in x->{}".format(0 not in x))
a,b,c=6,66,666
if c>a and c<b:
    print('a<c<b')
else: print('a<c<b kidding!!!')
def simple_func(x,y):
    z=pow(x,2)+y
    return z
print("simple_func(6,8)->{}".format(simple_func(6,8)))
print("simple_func(8,6)->{}".format(simple_func(8,6)))
print("simple_func(y=8,x=6)->{}".format(simple_func(y=8,x=6)))
def fibonacci(s,count): #定义fib函数的方法较笨
    fib_lst=[0,1]
    fib_part=[]
    if s==0 or s==1:
        fib_part[:]=fib_lst
        for i in range(count-2):
            fib_part.append(fib_part[-1]+fib_part[-2])
    else:
        while True:
            fib_lst[:]=[fib_lst[1],fib_lst[0]+fib_lst[1]]
            #print(fib_lst)
            if fib_lst[1]-s>=0:break
        fib_part[:]=fib_lst
        if abs(fib_lst[0]-s)>=abs(fib_lst[1]-s):
            for i in range(count-1):
                fib_part.append(fib_part[-1]+fib_part[-2])
            fib_part.pop(0)
        else:
            for i in range(count-2):
                fib_part.append(fib_part[-1]+fib_part[-2])
    return fib_part

print("fibonacci(8,9)->{}".format(fibonacci(8,9)))
print("fibonacci(8,9)->{}".format(fibonacci(8,9)))
def factorial(n):
    if n==1:
        return 1
    else:
        return n*factorial(n-1)
print(factorial(88))
class people:
    #定义基本属性
    name = ''
    age = 0
    #定义私有属性,私有属性在类外部无法直接进行访问
    __weight = 0
    #定义构造方法
    def __init__(self,n,a,w):
        self.name = n
        self.age = a
        self.__weight = w
    def speak(self):
        print("%s 说: 我 %d 岁。" %(self.name,self.age))
 
# 实例化类
p = people('runoob',10,30)
p.speak()
class devops():
    # 定义一个简单的类
    ops = ['Citizen_Wang', 'Bob_Zhou']
    dev = ['Jerry_Xue', 'Bagwell_Yan']
    def hello(self):
        print('Hello world')
 
# 实例化 类
a = devops()
 
# 访问类的属性 ops，dev
print(a.ops)
print(a.dev)
 
# 访问类的方法 hello 函数
a.hello()


# 抽象迭代器
class Iterator:
    def has_next(self) -> bool:
        raise NotImplementedError("Must subclass me!")
    
    def first(self) -> object:
        raise NotImplementedError("Must subclass me!")
    
    def next(self) -> object:
        raise NotImplementedError("Must subclass me!")
 
# 具体迭代器
class ConcreteIterator(Iterator):
    def __init__(self):
        self.container = []
        self.cursor = 0
    
    def has_next(self) -> bool:
        return True if self.cursor < len(self.container) else False
    
    def first(self) -> object:
        if len(self.container) >= 0:
            return self.container[0]
    
    def next(self) -> object:
        if self.has_next():
            current_element = self.container[self.cursor]
            self.cursor += 1
            return current_element
        return None
        
# 抽象容器
class Container:
    def iterator(self) -> Iterator:
        raise NotImplementedError("Must subclass me!")
        
    def add(self, element) -> None:
        raise NotImplementedError("Must subclass me!")
    
    def remove(self, element) -> None:
        raise NotImplementedError("Must subclass me!")
    
# 具体容器
class ConcreteContainer(Container):
    def __init__(self):
        self.it = self.iterator()
    
    def iterator(self) -> Iterator:
        return ConcreteIterator()
    
    def add(self, element) -> None:
        self.it.container.append(element)
    
    def remove(self, element) -> None:
        self.it.container.remove(element)
    
# 测试    
if __name__ == '__main__':
    mycontainer = ConcreteContainer()
    mycontainer.add("xixi")
    mycontainer.add("haha")
    mycontainer.add("hehe")
    mycontainer.add("hihi")
    mycontainer.add("wuwu")
    mycontainer.add("wawa")
    
    myiter = mycontainer.it  # 获取容器的迭代器
    while myiter.has_next():
        print(myiter.next())
def average():
    sum = 0
    count = 0
    avg = 0
    num = yield
    sum =+ num
    count += 1
    avg = sum/count
    yield avg

avg_g  = average()
avg_g.__next__()
avg1 = avg_g.send(10)
print(avg1)
def average():
    sum = 0
    count = 0
    avg = 0
    while True:
        #num = yield
        num = yield avg
        sum += num  # 注意+= 和 += 不一样的千万别错了
        count += 1
        avg = sum/count


avg_g  = average()
avg_g.__next__()
avg1 = avg_g.send(10)
print(avg1)
avg1 = avg_g.send(120)
print(avg1)
avg1 = avg_g.send(120)
print(avg1)

