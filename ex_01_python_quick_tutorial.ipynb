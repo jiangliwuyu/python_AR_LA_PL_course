{
 "cells": [
  {
   "cell_type": "code",
   "execution_count": 20,
   "id": "5cec5e2f-10ef-4d6e-af08-46a17fbf3f80",
   "metadata": {},
   "outputs": [
    {
     "name": "stdout",
     "output_type": "stream",
     "text": [
      "我爱建大\n"
     ]
    }
   ],
   "source": [
    "print(\"我爱建大\")"
   ]
  },
  {
   "cell_type": "code",
   "execution_count": 21,
   "id": "fde087e4-ee34-40d9-ac8d-ed2a1ddc397b",
   "metadata": {},
   "outputs": [
    {
     "name": "stdout",
     "output_type": "stream",
     "text": [
      "..............................\n"
     ]
    }
   ],
   "source": [
    "print(\".\"*30)"
   ]
  },
  {
   "cell_type": "code",
   "execution_count": 24,
   "id": "c9f9ca7e-81d5-413c-a749-b6b37e926782",
   "metadata": {},
   "outputs": [
    {
     "name": "stdout",
     "output_type": "stream",
     "text": [
      "11\n",
      "1\n",
      "2\n",
      "30\n"
     ]
    }
   ],
   "source": [
    "print(5+6)\n",
    "print(5//5)\n",
    "print(5-3)\n",
    "print(5*6)"
   ]
  },
  {
   "cell_type": "code",
   "execution_count": 47,
   "id": "f58cafc7-7a5a-49c4-a8f1-c558d83d46dd",
   "metadata": {},
   "outputs": [
    {
     "name": "stdout",
     "output_type": "stream",
     "text": [
      "yyc=3\n"
     ]
    }
   ],
   "source": [
    "a,b,c=3,6,9\n",
    "yyc=3*a+9*b-4*c\n",
    "print(\"wzzz={}\".format(a,b,c,wzzz))"
   ]
  },
  {
   "cell_type": "code",
   "execution_count": 41,
   "id": "29079a09-2536-4e7b-bb67-b732b0574eb1",
   "metadata": {},
   "outputs": [
    {
     "name": "stdout",
     "output_type": "stream",
     "text": [
      "yyc= 28.0\n",
      "yyc=28.00\n",
      "yyc=28.00\n"
     ]
    }
   ],
   "source": [
    "a=5.0 #当程序逐行从上至下运行时，注意变量定义的顺序\n",
    "yyc=5*a+3\n",
    "print(\"yyc=\",wzzz)\n",
    "print(\"yyc=%.2f\"%wzzz) #%字符串格式化方法\n",
    "print(\"yyc={:.2f}\".format(wzzz))#format()字符串格式化方法"
   ]
  },
  {
   "cell_type": "code",
   "execution_count": 48,
   "id": "dbfe42d7-1151-44f6-a454-71049096cfd7",
   "metadata": {},
   "outputs": [
    {
     "name": "stdout",
     "output_type": "stream",
     "text": [
      "yyc=3\n"
     ]
    }
   ],
   "source": [
    "a,b,c=3,6,9\n",
    "yyc=3*a+9*b-4*c\n",
    "print(\"yyc={}\".format(a,b,c,wzzz))"
   ]
  },
  {
   "cell_type": "code",
   "execution_count": 53,
   "id": "0c4c57ce-4eff-4ee3-adc7-ee333d7609c5",
   "metadata": {},
   "outputs": [
    {
     "name": "stdout",
     "output_type": "stream",
     "text": [
      "[3, 11, 19, 27, 35, 43, 51, 59, 67, 75, 83]\n",
      "The list length=11\n",
      "Maximum value=83\n",
      "Minimum value=3\n"
     ]
    }
   ],
   "source": [
    "lst_n=list(range(3,90,8)) #建立列表。range(start,stop,[,step])建立区间。\n",
    "print(lst_n)\n",
    "print(\"The list length={}\".format(len(lst_n)))\n",
    "print(\"Maximum value={}\".format(max(lst_n)))\n",
    "print(\"Minimum value={}\".format(min(lst_n)))"
   ]
  },
  {
   "cell_type": "code",
   "execution_count": 64,
   "id": "80e54191-3050-4af6-b64d-57a988cc4881",
   "metadata": {},
   "outputs": [
    {
     "name": "stdout",
     "output_type": "stream",
     "text": [
      "[3, 11, 19, 27, 35, 43, 51, 59, 67, 75, 83]\n",
      "[3:6]->[27, 35, 43]\n",
      "[-3:-1]->[67, 75]\n",
      "[-3:]->[67, 75, 83]\n",
      "[:3]->[3, 11, 19]\n",
      "[:]->[3, 11, 19, 27, 35, 43, 51, 59, 67, 75, 83]\n",
      "[0:10:2]->[3, 19, 35, 51, 67]\n",
      "[::3]->[3, 27, 51, 75]\n",
      "[9:3:-2]->[75, 59, 43]\n",
      "[20:3:-2]->[83, 67, 51, 35]\n",
      "[7::-2]->[59, 43, 27, 11]\n",
      "[:3:-2]->[83, 67, 51, 35]\n"
     ]
    }
   ],
   "source": [
    "lst_s=list(range(3,90,8))\n",
    "print(lst_s)\n",
    "print(\"[3:6]->{}\".format(lst_s[3:6]))\n",
    "print(\"[-3:-1]->{}\".format(lst_s[-3:-1]))\n",
    "print(\"[-3:]->{}\".format(lst_s[-3:]))\n",
    "print(\"[:3]->{}\".format(lst_s[:3]))\n",
    "print(\"[:]->{}\".format(lst_s[:]))\n",
    "print(\"[0:10:2]->{}\".format(lst_s[0:10:2]))\n",
    "print(\"[::3]->{}\".format(lst_s[::3]))\n",
    "print(\"[9:3:-2]->{}\".format(lst_s[9:3:-2]))\n",
    "print(\"[20:3:-2]->{}\".format(lst_s[20:3:-2]))\n",
    "print(\"[7::-2]->{}\".format(lst_s[7::-2]))\n",
    "print(\"[:3:-2]->{}\".format(lst_s[:3:-2]))\n"
   ]
  },
  {
   "cell_type": "code",
   "execution_count": 76,
   "id": "b4557f0b-196c-4a4d-98bd-bd2a16d66717",
   "metadata": {},
   "outputs": [
    {
     "name": "stdout",
     "output_type": "stream",
     "text": [
      "60\n",
      "45\n",
      "{'Alice': 45, 'Bob': 75, 'Candy': 75, 'David': 86, 'Ellena': 49, 'Gaven': 86}\n",
      "{'Alice': 45, 'Bob': 75, 'Candy': 75, 'David': 86, 'Ellena': 49, 'Gaven': 86, 'Mimi': [72, 73], 'Dodo': [88, 90]}\n",
      "{'Alice': 45, 'Bob': 75, 'Candy': 75, 'David': 86, 'Ellena': 49, 'Gaven': 86, 'Mimi': [72, 73, 75], 'Dodo': [88, 90, 90]}\n",
      "45\n",
      "{'Bob': 75, 'Candy': 75, 'David': 86, 'Ellena': 49, 'Gaven': 86, 'Mimi': [72, 73, 75], 'Dodo': [88, 90, 90]}\n",
      "Candy 75\n",
      "David 86\n",
      "Gaven 86\n",
      "Candy 75\n",
      "David 86\n",
      "Gaven 86\n",
      "Alice\n",
      "Bob\n",
      "Candy\n",
      "[50, 61, 66]\n",
      "[80, 61, 66]\n",
      "[88, 75, 90]\n",
      "{}\n"
     ]
    }
   ],
   "source": [
    "d = {\n",
    "    'Alice': 45,\n",
    "    'Bob': 60,\n",
    "    'Candy': 75,\n",
    "    'David': 86,\n",
    "    'Ellena': 49,\n",
    "    'Gaven': 86\n",
    "}\n",
    "#读取dict元素\n",
    "print(d['Bob'])\n",
    "print(d['Alice'])\n",
    "#更新dict元素\n",
    "d['Bob']=75\n",
    "print(d)\n",
    "#添加dict元素\n",
    "d['Mimi'] = [72, 73]\n",
    "d['Dodo'] = [88, 90]\n",
    "print(d)\n",
    "d['Mimi'].append(75)\n",
    "d['Dodo'].append(90)\n",
    "print(d)\n",
    "#删除dict元素\n",
    "alice_score= d.pop('Alice')\n",
    "print(alice_score)\n",
    "print(d)\n",
    "#遍历dict\n",
    "d = {\n",
    "    'Alice': 45,\n",
    "    'Bob': 60,\n",
    "    'Candy': 75,\n",
    "    'David': 86,\n",
    "    'Ellena': 49,\n",
    "    'Gaven': 86\n",
    "}\n",
    "for key in d: #遍历d的所有key\n",
    "    value = d[key]\n",
    "    if value > 60:\n",
    "        print(key, value)\n",
    "for key, value in d.items():#返回dict中所有的元素\n",
    "    if value > 60:\n",
    "        print(key, value)\n",
    "#获取dict的所有key\n",
    "d = {'Alice': [50, 61, 66], 'Bob': [80, 61, 66], 'Candy': [88, 75, 90]}\n",
    "for key in d.keys():\n",
    "    print(key)\n",
    "#获取dict的所有value\n",
    "for key in d.values():\n",
    "    print(key)\n",
    "#清除所有元素\n",
    "d.clear()\n",
    "print(d)\n"
   ]
  },
  {
   "cell_type": "code",
   "execution_count": 70,
   "id": "fc30117f-cd42-43d1-9b79-58b77916db04",
   "metadata": {},
   "outputs": [
    {
     "name": "stdout",
     "output_type": "stream",
     "text": [
      "tuple_z=3,9,5,->(3, 9, 5)\n",
      "2*(3*60,)->(180, 180)\n"
     ]
    }
   ],
   "source": [
    "tuple_z=3,9,5 #元组的语法为tuple=(value1,value2,value3,..)，用小括号括起，中间与列表一样由“，”号隔开。最后也需要点逗号。\n",
    "print(\"tuple_z=3,9,5,->{}\".format(tuple_z))\n",
    "print(\"2*(3*60,)->{}\".format(2*(3*60,)))"
   ]
  },
  {
   "cell_type": "code",
   "execution_count": 71,
   "id": "4ce16d3c-1333-4a38-b15b-34bdfecba88c",
   "metadata": {},
   "outputs": [
    {
     "name": "stdout",
     "output_type": "stream",
     "text": [
      "Hello World, Hello China, Hello python.\n"
     ]
    }
   ],
   "source": [
    "template = 'Hello {w}, Hello {c}, Hello {p}.'# 指定{}的名字\n",
    "world = 'World'\n",
    "china = 'China'\n",
    "python = 'python'\n",
    "result = template.format(w = world, c = china, p=python)# 指定名字对应的模板数据内容\n",
    "print(result)"
   ]
  },
  {
   "cell_type": "code",
   "execution_count": 72,
   "id": "d5f9c09c-532e-42ad-93d1-964ed7ce6085",
   "metadata": {},
   "outputs": [
    {
     "name": "stdout",
     "output_type": "stream",
     "text": [
      "Hello World,Hello China,Hello Python.\n",
      "Hello Python,Hello China,Hello World.\n"
     ]
    }
   ],
   "source": [
    "template='Hello {0},Hello {1},Hello {2}.'#指定顺序\n",
    "result=template.format('World','China','Python')\n",
    "print(result)\n",
    "template='Hello {2},Hello {1},Hello {0}.'#调整顺序\n",
    "result=template.format('World','China','Python')\n",
    "print(result)"
   ]
  },
  {
   "cell_type": "code",
   "execution_count": 74,
   "id": "c595c069-f7fb-4603-bbeb-af648b47cafa",
   "metadata": {},
   "outputs": [
    {
     "name": "stdout",
     "output_type": "stream",
     "text": [
      "a\n",
      "66\n",
      "b\n",
      "70\n",
      "c\n",
      "100\n"
     ]
    }
   ],
   "source": [
    "L = ['a', 66, 'b', 70, 'c', 100]\n",
    "for item in L:\n",
    "    print(item)\n",
    "    "
   ]
  },
  {
   "cell_type": "code",
   "execution_count": 75,
   "id": "9766a869-835a-4c21-90c5-13cfd42c8255",
   "metadata": {},
   "outputs": [
    {
     "name": "stdout",
     "output_type": "stream",
     "text": [
      "A\n",
      "B\n",
      "C\n",
      "D\n",
      "Alice\n",
      "Bob\n",
      "Candy\n",
      "David\n",
      "Ellena\n",
      "Gaven\n",
      "5050\n",
      "5050\n"
     ]
    }
   ],
   "source": [
    "#for循环\n",
    "s = 'ABCD'\n",
    "for h in s:\n",
    "    print(h) #注意缩进\n",
    "d = {\n",
    "    'Alice': 45,\n",
    "    'Bob': 60,\n",
    "    'Candy': 75,\n",
    "    'David': 86,\n",
    "    'Ellena': 49,\n",
    "    'Gaven': 86\n",
    "}\n",
    "for k in d:\n",
    "    print(k)\n",
    "#while循环\n",
    "num = 1\n",
    "sum = 0\n",
    "while num <= 100:\n",
    "    sum = sum + num # 注意缩进\n",
    "    num = num + 1 # 注意缩进\n",
    "print(sum)\n",
    "#while跳出循环\n",
    "num = 1\n",
    "sum = 0\n",
    "while True:\n",
    "    if num > 100:\n",
    "        break\n",
    "    sum = sum + num\n",
    "    num = num + 1\n",
    "print(sum)"
   ]
  },
  {
   "cell_type": "code",
   "execution_count": 112,
   "id": "b3c3894f-31fe-44c6-af99-8cec821607da",
   "metadata": {},
   "outputs": [
    {
     "name": "stdout",
     "output_type": "stream",
     "text": [
      "正常\n"
     ]
    }
   ],
   "source": [
    "kg=60\n",
    "if kg<50:\n",
    "    print(\"轻\")\n",
    "else:\n",
    "    if kg>=80:\n",
    "        print(\"重\")\n",
    "    else:\n",
    "        print(\"正常\")"
   ]
  },
  {
   "cell_type": "code",
   "execution_count": 114,
   "id": "47e71ad1-44e1-49cb-99f6-2d0d8add6df3",
   "metadata": {},
   "outputs": [
    {
     "name": "stdout",
     "output_type": "stream",
     "text": [
      "simple_func(2,6)->262\n",
      "simple_func(6,2)->1679618\n",
      "simple_func(y=5,x=3)->6566\n"
     ]
    }
   ],
   "source": [
    "def simple_func(x,y):\n",
    "    z=pow(x,8)+y\n",
    "    return z\n",
    "print(\"simple_func(2,6)->{}\".format(simple_func(2,6)))\n",
    "print(\"simple_func(6,2)->{}\".format(simple_func(6,2)))\n",
    "print(\"simple_func(y=5,x=3)->{}\".format(simple_func(y=5,x=3)))"
   ]
  },
  {
   "cell_type": "code",
   "execution_count": 115,
   "id": "89309dd2-accf-4526-b9d7-1328dff8ef3e",
   "metadata": {},
   "outputs": [
    {
     "name": "stdout",
     "output_type": "stream",
     "text": [
      "3628800\n"
     ]
    }
   ],
   "source": [
    "def factorial(n):\n",
    "    if n==1:\n",
    "        return 1\n",
    "    else:\n",
    "        return n*factorial(n-1)\n",
    "print(factorial(10))"
   ]
  },
  {
   "cell_type": "code",
   "execution_count": 122,
   "id": "97eb2bdc-4b2c-4225-9b86-7e69586af30c",
   "metadata": {},
   "outputs": [],
   "source": []
  },
  {
   "cell_type": "code",
   "execution_count": ,
   "id": "057abd87-4db5-4d0f-96e5-49d3a21c4273",
   "metadata": {},
   "outputs": [],
   "source": []
  },
  {
   "cell_type": "code",
   "execution_count": 124,
   "id": "7ec9fa67-0e8f-4647-85b1-1f04ef6067ea",
   "metadata": {},
   "outputs": [
    {
     "name": "stdout",
     "output_type": "stream",
     "text": [
      "1\n",
      "2\n",
      "3\n",
      "4\n",
      "5\n"
     ]
    }
   ],
   "source": [
    "class MyNumbers:\n",
    "  def __iter__(self):\n",
    "    self.a = 1\n",
    "    return self\n",
    " \n",
    "  def __next__(self):\n",
    "    x = self.a\n",
    "    self.a += 1\n",
    "    return x\n",
    " \n",
    "myclass = MyNumbers()\n",
    "myiter = iter(myclass)\n",
    " \n",
    "print(next(myiter))\n",
    "print(next(myiter))\n",
    "print(next(myiter))\n",
    "print(next(myiter))\n",
    "print(next(myiter))"
   ]
  },
  {
   "cell_type": "code",
   "execution_count": 130,
   "id": "f37db68a-dc23-442b-aa5b-9250ec8501a3",
   "metadata": {},
   "outputs": [
    {
     "name": "stdout",
     "output_type": "stream",
     "text": [
      "lst_e=[[3, 6, 9, 12, 15, 18], [3, 7, 67, [0, 1, 2, 3, 4], 89]]\n",
      "__________________________________________________\n",
      "flatten_lst=[3, 6, 9, 12, 15, 18, 3, 7, 67, 0, 1, 2, 3, 4, 89]\n"
     ]
    }
   ],
   "source": [
    "lst_e=[list(range(3,20,3)),[3,7,67,list(range(5)),89]]\n",
    "print(\"lst_e={}\".format(lst_e))\n",
    "print(\"_\"*50)\n",
    "flatten_lst=[]\n",
    "for v_1 in lst_e:\n",
    "    try:\n",
    "        for v_2 in v_1:\n",
    "            try:\n",
    "                for v_3 in v_2:\n",
    "                    flatten_lst.append(v_3)\n",
    "            except TypeError:\n",
    "                flatten_lst.append(v_2)\n",
    "    except TypeError:\n",
    "        flatten_lst.append(v_1)\n",
    "print(\"flatten_lst={}\".format(flatten_lst))\n"
   ]
  },
  {
   "cell_type": "code",
   "execution_count": 131,
   "id": "3d76ae28-2ef6-4bc3-95b5-567dcf7b253d",
   "metadata": {},
   "outputs": [
    {
     "ename": "SyntaxError",
     "evalue": "invalid syntax (<ipython-input-131-fd410cc3b650>, line 2)",
     "output_type": "error",
     "traceback": [
      "\u001b[1;36m  File \u001b[1;32m\"<ipython-input-131-fd410cc3b650>\"\u001b[1;36m, line \u001b[1;32m2\u001b[0m\n\u001b[1;33m    do something\u001b[0m\n\u001b[1;37m       ^\u001b[0m\n\u001b[1;31mSyntaxError\u001b[0m\u001b[1;31m:\u001b[0m invalid syntax\n"
     ]
    }
   ],
   "source": [
    "try:\n",
    "    do something\n",
    "except:\n",
    "    do something\n",
    "Copy to clipboardErrorCopied\n",
    "def f_convert_a(x):\n",
    "    try:\n",
    "        return float(x)\n",
    "    except:\n",
    "        return x\n",
    "print(\"f_convert_a('3.1415')->{}\".format(f_convert_a('3.1415')))    \n",
    "print(\"f_convert_a('string')->{}\".format(f_convert_a('string')))  \n",
    "print(\"f_convert_a(3,6,7)->{}\".format(f_convert_a((3,6,7))))  "
   ]
  },
  {
   "cell_type": "code",
   "execution_count": 133,
   "id": "2f5da7f3-5bb3-4237-9209-2cc2f93dd8b7",
   "metadata": {},
   "outputs": [
    {
     "ename": "SyntaxError",
     "evalue": "invalid syntax (<ipython-input-133-960741884d26>, line 2)",
     "output_type": "error",
     "traceback": [
      "\u001b[1;36m  File \u001b[1;32m\"<ipython-input-133-960741884d26>\"\u001b[1;36m, line \u001b[1;32m2\u001b[0m\n\u001b[1;33m    do something\u001b[0m\n\u001b[1;37m       ^\u001b[0m\n\u001b[1;31mSyntaxError\u001b[0m\u001b[1;31m:\u001b[0m invalid syntax\n"
     ]
    }
   ],
   "source": [
    "try:\n",
    "    do something\n",
    "except TypeError:\n",
    "    do something\n",
    "except ValueError:\n",
    "    do something\n",
    "Copy to clipboardErrorCopied\n",
    "def f_convert_c(x):\n",
    "    try:\n",
    "        return float(x)\n",
    "    except ValueError:\n",
    "        return x\n",
    "    except TypeError:\n",
    "        print(x,'TypeError')\n",
    "print(\"f_convert_c('3.1415')->{}\".format(f_convert_c('3.1415')))    \n",
    "print(\"f_convert_c('string')->{}\".format(f_convert_c('string')))  \n",
    "print(\"f_convert_c(3,6,7)->{}\".format(f_convert_c((3,6,7))))  "
   ]
  },
  {
   "cell_type": "code",
   "execution_count": 134,
   "id": "dafd8a59-98aa-417c-8942-32a1fe1cf003",
   "metadata": {},
   "outputs": [
    {
     "ename": "Exception",
     "evalue": "",
     "output_type": "error",
     "traceback": [
      "\u001b[1;31m---------------------------------------------------------------------------\u001b[0m",
      "\u001b[1;31mException\u001b[0m                                 Traceback (most recent call last)",
      "\u001b[1;32m<ipython-input-134-ee49337a58c8>\u001b[0m in \u001b[0;36m<module>\u001b[1;34m\u001b[0m\n\u001b[1;32m----> 1\u001b[1;33m \u001b[1;32mraise\u001b[0m \u001b[0mException\u001b[0m \u001b[1;31m#没有任何有关错误信息的普通异常\u001b[0m\u001b[1;33m\u001b[0m\u001b[1;33m\u001b[0m\u001b[0m\n\u001b[0m",
      "\u001b[1;31mException\u001b[0m: "
     ]
    }
   ],
   "source": [
    "raise Exception #没有任何有关错误信息的普通异常"
   ]
  },
  {
   "cell_type": "code",
   "execution_count": 135,
   "id": "43bd335b-c786-4690-bebd-a8a9ad1b3825",
   "metadata": {},
   "outputs": [
    {
     "ename": "SyntaxError",
     "evalue": "invalid syntax (<ipython-input-135-a5eebee458e2>, line 3)",
     "output_type": "error",
     "traceback": [
      "\u001b[1;36m  File \u001b[1;32m\"<ipython-input-135-a5eebee458e2>\"\u001b[1;36m, line \u001b[1;32m3\u001b[0m\n\u001b[1;33m    Copy to clipboardErrorCopied\u001b[0m\n\u001b[1;37m         ^\u001b[0m\n\u001b[1;31mSyntaxError\u001b[0m\u001b[1;31m:\u001b[0m invalid syntax\n"
     ]
    }
   ],
   "source": [
    "x=20\n",
    "assert x>0 #为真则不做任何事情\n",
    "Copy to clipboardErrorCopied\n",
    "assert x<0 #为假则引发AssertionError异常"
   ]
  },
  {
   "cell_type": "code",
   "execution_count": ,
   "id": "67756a35-ce65-4711-81bb-6a1e73402b1f",
   "metadata": {},
   "outputs": [],
   "source": []
  }
 ],
 "metadata": {
  "kernelspec": {
   "display_name": "Python 3",
   "language": "python",
   "name": "python3"
  },
  "language_info": {
   "codemirror_mode": {
    "name": "ipython",
    "version": 3
   },
   "file_extension": ".py",
   "mimetype": "text/x-python",
   "name": "python",
   "nbconvert_exporter": "python",
   "pygments_lexer": "ipython3",
   "version": "3.8.8"
  }
 },
 "nbformat": 4,
 "nbformat_minor": 5
}
